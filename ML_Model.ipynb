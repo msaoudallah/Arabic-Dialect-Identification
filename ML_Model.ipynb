{
 "cells": [
  {
   "cell_type": "code",
   "execution_count": 1,
   "metadata": {},
   "outputs": [
    {
     "name": "stderr",
     "output_type": "stream",
     "text": [
      "d:\\self\\AIM ML Task\\App\\aim\\lib\\site-packages\\xgboost\\compat.py:36: FutureWarning: pandas.Int64Index is deprecated and will be removed from pandas in a future version. Use pandas.Index with the appropriate dtype instead.\n",
      "  from pandas import MultiIndex, Int64Index\n"
     ]
    }
   ],
   "source": [
    "import pandas as pd\n",
    "import numpy as np\n",
    "\n",
    "import tensorflow as tf\n",
    "from sklearn.model_selection import train_test_split\n",
    "from sklearn.metrics import accuracy_score,f1_score, confusion_matrix, plot_confusion_matrix, classification_report\n",
    "from keras.preprocessing.text import Tokenizer \n",
    "from keras.preprocessing.sequence import pad_sequences\n",
    "from sklearn.preprocessing import LabelEncoder\n",
    "import seaborn as sns\n",
    "\n",
    "from sklearn.feature_extraction.text import CountVectorizer, HashingVectorizer, TfidfVectorizer\n",
    "from sklearn.pipeline import make_pipeline, Pipeline, FeatureUnion\n",
    "\n",
    "from sklearn.svm import SVC, LinearSVC\n",
    "from sklearn.linear_model import LogisticRegression\n",
    "from sklearn.naive_bayes import MultinomialNB, BernoulliNB , GaussianNB\n",
    "from sklearn.ensemble import AdaBoostClassifier , ExtraTreesClassifier, RandomForestClassifier\n",
    "import xgboost as xgb\n",
    "import catboost as ctb \n",
    "import lightgbm as lbm\n",
    "\n",
    "import pickle\n",
    "\n",
    "import warnings\n",
    "pd.set_option(\"display.max_colwidth\", 200)\n",
    "warnings.filterwarnings(\"ignore\")\n",
    "\n",
    "\n",
    "from utils.utils import *"
   ]
  },
  {
   "cell_type": "markdown",
   "metadata": {},
   "source": [
    "# Reading Data"
   ]
  },
  {
   "cell_type": "code",
   "execution_count": 2,
   "metadata": {},
   "outputs": [
    {
     "data": {
      "text/html": [
       "<div>\n",
       "<style scoped>\n",
       "    .dataframe tbody tr th:only-of-type {\n",
       "        vertical-align: middle;\n",
       "    }\n",
       "\n",
       "    .dataframe tbody tr th {\n",
       "        vertical-align: top;\n",
       "    }\n",
       "\n",
       "    .dataframe thead th {\n",
       "        text-align: right;\n",
       "    }\n",
       "</style>\n",
       "<table border=\"1\" class=\"dataframe\">\n",
       "  <thead>\n",
       "    <tr style=\"text-align: right;\">\n",
       "      <th></th>\n",
       "      <th>dialect</th>\n",
       "      <th>txt</th>\n",
       "    </tr>\n",
       "  </thead>\n",
       "  <tbody>\n",
       "    <tr>\n",
       "      <th>0</th>\n",
       "      <td>IQ</td>\n",
       "      <td>يسلملي مرورك وروحك الحلوه مبين كلامه خليجي يعني محسوب البشر  حيونه وحشيه  وتطلبون الغرب يحترمكم ويؤمن بدينكم ولاينعتكم بالارهاب بالنهايه  ينتفض  يغير</td>\n",
       "    </tr>\n",
       "    <tr>\n",
       "      <th>1</th>\n",
       "      <td>IQ</td>\n",
       "      <td>خلص والله لعيونكم ماعندي شيء معه بالعكس متابعيني بعتز فيهم  خلص صافيه لبن  مطلبي يقدم استقالته وفوگاها اعتذار ياخي الارهابي عراقي سعودي فلسطيني وين المشكله باب الفرضخليجي وماعنده رحمه وين المساس ب...</td>\n",
       "    </tr>\n",
       "    <tr>\n",
       "      <th>2</th>\n",
       "      <td>IQ</td>\n",
       "      <td>شاء اخوه يجمعنه العراق بكل جحيمه حلو  والله الموضوع جدا حساس ويحير اتفق معك بس لاتروح زايد عادي اولا اني ردت رجل جنوبي واللي ذكر حجابها  ثانيا شدعوه صايره محامي لكوهين  صحيح مقوله العراق بلد الغرا...</td>\n",
       "    </tr>\n",
       "    <tr>\n",
       "      <th>3</th>\n",
       "      <td>IQ</td>\n",
       "      <td>يسعد مساك بنت العم  يسلملي مرورك روعات تواصلك يسعد مساك سيد الحرف الحزين  هه عدوله گلبه ورم عدنه  گلك خل اتونس همه بكل شيء مارضين فهاي السفره اسمها  اتونس وبكيفي</td>\n",
       "    </tr>\n",
       "    <tr>\n",
       "      <th>4</th>\n",
       "      <td>IQ</td>\n",
       "      <td>عباله يرجع صدام حسين للحكم ياكلون بخيرنه ويهينون  موظفينه اتركه فتره ماسال مايستحق اهتمامك  ماخذ بشر وحدي</td>\n",
       "    </tr>\n",
       "  </tbody>\n",
       "</table>\n",
       "</div>"
      ],
      "text/plain": [
       "  dialect  \\\n",
       "0      IQ   \n",
       "1      IQ   \n",
       "2      IQ   \n",
       "3      IQ   \n",
       "4      IQ   \n",
       "\n",
       "                                                                                                                                                                                                       txt  \n",
       "0                                                    يسلملي مرورك وروحك الحلوه مبين كلامه خليجي يعني محسوب البشر  حيونه وحشيه  وتطلبون الغرب يحترمكم ويؤمن بدينكم ولاينعتكم بالارهاب بالنهايه  ينتفض  يغير  \n",
       "1  خلص والله لعيونكم ماعندي شيء معه بالعكس متابعيني بعتز فيهم  خلص صافيه لبن  مطلبي يقدم استقالته وفوگاها اعتذار ياخي الارهابي عراقي سعودي فلسطيني وين المشكله باب الفرضخليجي وماعنده رحمه وين المساس ب...  \n",
       "2  شاء اخوه يجمعنه العراق بكل جحيمه حلو  والله الموضوع جدا حساس ويحير اتفق معك بس لاتروح زايد عادي اولا اني ردت رجل جنوبي واللي ذكر حجابها  ثانيا شدعوه صايره محامي لكوهين  صحيح مقوله العراق بلد الغرا...  \n",
       "3                                        يسعد مساك بنت العم  يسلملي مرورك روعات تواصلك يسعد مساك سيد الحرف الحزين  هه عدوله گلبه ورم عدنه  گلك خل اتونس همه بكل شيء مارضين فهاي السفره اسمها  اتونس وبكيفي  \n",
       "4                                                                                               عباله يرجع صدام حسين للحكم ياكلون بخيرنه ويهينون  موظفينه اتركه فتره ماسال مايستحق اهتمامك  ماخذ بشر وحدي   "
      ]
     },
     "execution_count": 2,
     "metadata": {},
     "output_type": "execute_result"
    }
   ],
   "source": [
    "data = pd.read_csv('concat4.csv')\n",
    "data.head()"
   ]
  },
  {
   "cell_type": "markdown",
   "metadata": {},
   "source": [
    "# Preprocessing"
   ]
  },
  {
   "cell_type": "code",
   "execution_count": 3,
   "metadata": {},
   "outputs": [
    {
     "data": {
      "text/plain": [
       "61164                                  والله يطلع يطلع في الاخير ماسو شي قدمو شي انشاء يطلع فيصل العيافي بو كاتم محبتي منو الغاء كلام اليوم نهائيا تستهلون انتو وقفين صفو غلط قاعد يصير والله حرام\n",
       "108590                                                              تقبل طاعتكم  و عام انتوا بخير  عام بخير يالخوي  بنلعبللخير بدينا البث شباب  رتويت ميزان حسناتكم يقولون هاذي مو اول مره  شسالفه\n",
       "52819     الحمدلله شعور  صباحالخير اندم صراحتي فالعيش بوجهين امر يقرفني جدا متطوعات تطوع عملتطوعي فرصهتطوع تطوعبلاحدود غردبصوره غرد الرياض ريتويت ريتويتفضلا صباح الاماني صباحالخير ياوطني الغالي \n",
       "Name: txt, dtype: object"
      ]
     },
     "execution_count": 3,
     "metadata": {},
     "output_type": "execute_result"
    }
   ],
   "source": [
    "data.txt.sample(3,random_state=42)"
   ]
  },
  {
   "cell_type": "code",
   "execution_count": 4,
   "metadata": {},
   "outputs": [],
   "source": [
    "data.txt = data.txt.apply(preprocessing)"
   ]
  },
  {
   "cell_type": "code",
   "execution_count": 5,
   "metadata": {},
   "outputs": [
    {
     "data": {
      "text/plain": [
       "62701                                                                                                  افندم حضرتك شفتك  اكدب عنيا يعني اه بحرف النون برضو عندنا نقص حلو ده معناه ايه ربنا يسعدك ويفرح قلبك يارب\n",
       "99074    اهداء الي  عشان تعرف وتفهم ويصحي ضميرك ضمير الاصل اقراء التعليقات دي كويس سامحنا استاذ حقك رقبتنا عربيه بيت فيلا رحله دبي فرنسا حاجات زي دي الكلام دا حرفيا بعيد علي شديد ياخي اكتر حاجه بتزعل انو ب...\n",
       "72173    طول عمرك محترم كابتن احمد وياريتهم يفهموا  عارف ليه بتفرج الحلقه بتاعتك وتيجي تخلص بحس اني زعلان انها خلصت  مبدع كالعاده وبالتوفيق دايما ابو الاجناش الزملكاويه بيحاربوا الزمالك عشان عارفين انه لمس...\n",
       "Name: txt, dtype: object"
      ]
     },
     "execution_count": 5,
     "metadata": {},
     "output_type": "execute_result"
    }
   ],
   "source": [
    "data.txt.sample(3,random_state=5)"
   ]
  },
  {
   "cell_type": "markdown",
   "metadata": {},
   "source": [
    "# splitting to train_valid_test sets"
   ]
  },
  {
   "cell_type": "code",
   "execution_count": 6,
   "metadata": {},
   "outputs": [
    {
     "data": {
      "text/plain": [
       "0         4\n",
       "1         4\n",
       "2         4\n",
       "3         4\n",
       "4         4\n",
       "         ..\n",
       "114545    1\n",
       "114546    1\n",
       "114547    1\n",
       "114548    1\n",
       "114549    1\n",
       "Name: dialect, Length: 114550, dtype: int32"
      ]
     },
     "execution_count": 6,
     "metadata": {},
     "output_type": "execute_result"
    }
   ],
   "source": [
    "le = LabelEncoder()\n",
    "\n",
    "data['dialect'] = le.fit_transform(data['dialect'])\n",
    "data['dialect']"
   ]
  },
  {
   "cell_type": "code",
   "execution_count": 7,
   "metadata": {},
   "outputs": [
    {
     "data": {
      "text/plain": [
       "(114550, 0.21824530772588388)"
      ]
     },
     "execution_count": 7,
     "metadata": {},
     "output_type": "execute_result"
    }
   ],
   "source": [
    "len(data), 25000/len(data)"
   ]
  },
  {
   "cell_type": "code",
   "execution_count": 8,
   "metadata": {},
   "outputs": [
    {
     "data": {
      "text/plain": [
       "3     14409\n",
       "11    10936\n",
       "6     10528\n",
       "8      9124\n",
       "12     7767\n",
       "5      6981\n",
       "7      6903\n",
       "13     6708\n",
       "0      6575\n",
       "1      6573\n",
       "10     4779\n",
       "15     4061\n",
       "2      4047\n",
       "4      3875\n",
       "14     3608\n",
       "9      2885\n",
       "17     2481\n",
       "16     2310\n",
       "Name: dialect, dtype: int64"
      ]
     },
     "execution_count": 8,
     "metadata": {},
     "output_type": "execute_result"
    }
   ],
   "source": [
    "data['dialect'].value_counts()"
   ]
  },
  {
   "cell_type": "code",
   "execution_count": 9,
   "metadata": {},
   "outputs": [],
   "source": [
    "# get train and test sets\n",
    "xtrain,xtest,ytrain,ytest=train_test_split(data['txt'],data['dialect'],test_size=0.05,random_state=45,shuffle=True, stratify = data['dialect'])"
   ]
  },
  {
   "cell_type": "code",
   "execution_count": 10,
   "metadata": {},
   "outputs": [
    {
     "data": {
      "text/plain": [
       "(108822, 0.2297329584091452)"
      ]
     },
     "execution_count": 10,
     "metadata": {},
     "output_type": "execute_result"
    }
   ],
   "source": [
    "len(xtrain),25000/len(xtrain)"
   ]
  },
  {
   "cell_type": "code",
   "execution_count": 11,
   "metadata": {},
   "outputs": [],
   "source": [
    "xtrain,xvalid,ytrain,yvalid=train_test_split(xtrain,ytrain,test_size=0.05,random_state=45,shuffle=True,stratify = ytrain)"
   ]
  },
  {
   "cell_type": "markdown",
   "metadata": {},
   "source": [
    "# Creating Pipeline"
   ]
  },
  {
   "cell_type": "code",
   "execution_count": 15,
   "metadata": {},
   "outputs": [],
   "source": [
    "## Vectorzers\n",
    "cvec = CountVectorizer()\n",
    "hvec = HashingVectorizer(ngram_range=(2,5), n_features=50000)\n",
    "tvec = TfidfVectorizer(max_features=30000,ngram_range=(1,6))\n",
    "\n",
    "## classifiers\n",
    "rf = RandomForestClassifier()\n",
    "adac = AdaBoostClassifier()\n",
    "xgbc = xgb.XGBClassifier()\n",
    "catc = ctb.CatBoostClassifier()\n",
    "lbmc = lbm.LGBMClassifier()\n",
    "\n",
    "lrc =LogisticRegression()\n",
    "svc = SVC()\n",
    "lsvc = LinearSVC()\n",
    "mnbc = MultinomialNB()\n",
    "bnbc = BernoulliNB()\n",
    "gnbc = GaussianNB()\n",
    "\n",
    "## label encoder \n"
   ]
  },
  {
   "cell_type": "code",
   "execution_count": 16,
   "metadata": {},
   "outputs": [],
   "source": [
    "pipe = Pipeline(steps=[\n",
    "    ('tfidf', tvec),\n",
    "    ('clf', lsvc ),\n",
    "    ])"
   ]
  },
  {
   "cell_type": "code",
   "execution_count": 17,
   "metadata": {},
   "outputs": [],
   "source": [
    "pipe.fit(xtrain,ytrain)\n",
    "preds = pipe.predict(xtest)"
   ]
  },
  {
   "cell_type": "code",
   "execution_count": 18,
   "metadata": {},
   "outputs": [
    {
     "data": {
      "text/plain": [
       "0.7493016759776536"
      ]
     },
     "execution_count": 18,
     "metadata": {},
     "output_type": "execute_result"
    }
   ],
   "source": [
    "accuracy_score(ytest, preds)"
   ]
  },
  {
   "cell_type": "code",
   "execution_count": 19,
   "metadata": {},
   "outputs": [
    {
     "data": {
      "text/plain": [
       "0.7327302470439183"
      ]
     },
     "execution_count": 19,
     "metadata": {},
     "output_type": "execute_result"
    }
   ],
   "source": [
    "f1_score(ytest, preds, average='macro')"
   ]
  },
  {
   "cell_type": "markdown",
   "metadata": {},
   "source": [
    "# Saving Model"
   ]
  },
  {
   "cell_type": "code",
   "execution_count": 20,
   "metadata": {},
   "outputs": [],
   "source": [
    "with open('assets/mlmodel.pkl', 'wb') as model:\n",
    "    pickle.dump(pipe,model)"
   ]
  },
  {
   "cell_type": "code",
   "execution_count": 21,
   "metadata": {},
   "outputs": [],
   "source": [
    "with open('assets/le.pkl', 'wb') as lencoder:\n",
    "    pickle.dump(le,lencoder)"
   ]
  },
  {
   "cell_type": "markdown",
   "metadata": {},
   "source": [
    "# Loading and prediction"
   ]
  },
  {
   "cell_type": "code",
   "execution_count": 22,
   "metadata": {},
   "outputs": [],
   "source": [
    "with open('assets/mlmodel.pkl', 'rb') as f:\n",
    "    model = pickle.load(f)"
   ]
  },
  {
   "cell_type": "code",
   "execution_count": 23,
   "metadata": {},
   "outputs": [
    {
     "data": {
      "text/plain": [
       "(0.7473355384049981, 0.7302360160726473)"
      ]
     },
     "execution_count": 23,
     "metadata": {},
     "output_type": "execute_result"
    }
   ],
   "source": [
    "preds = model.predict(xvalid)\n",
    "accuracy_score(yvalid,preds), f1_score(yvalid,preds, average='macro')"
   ]
  },
  {
   "cell_type": "code",
   "execution_count": null,
   "metadata": {},
   "outputs": [],
   "source": []
  }
 ],
 "metadata": {
  "interpreter": {
   "hash": "005bf040230a0d411425b97bf046d89bfd90c8a9c6ecb15bf71aa6f47ab3b4a2"
  },
  "kernelspec": {
   "display_name": "Python 3.8.5 64-bit ('base': conda)",
   "language": "python",
   "name": "python3"
  },
  "language_info": {
   "codemirror_mode": {
    "name": "ipython",
    "version": 3
   },
   "file_extension": ".py",
   "mimetype": "text/x-python",
   "name": "python",
   "nbconvert_exporter": "python",
   "pygments_lexer": "ipython3",
   "version": "3.8.3"
  },
  "orig_nbformat": 4
 },
 "nbformat": 4,
 "nbformat_minor": 2
}
