{
 "cells": [
  {
   "cell_type": "code",
   "execution_count": 1,
   "metadata": {},
   "outputs": [],
   "source": [
    "import pandas as pd\n",
    "import matplotlib.pyplot as plt\n",
    "import seaborn as sns"
   ]
  },
  {
   "cell_type": "code",
   "execution_count": 2,
   "metadata": {},
   "outputs": [],
   "source": [
    "data = pd.read_csv('full_data.csv')"
   ]
  },
  {
   "cell_type": "code",
   "execution_count": 3,
   "metadata": {},
   "outputs": [
    {
     "data": {
      "text/plain": [
       "<AxesSubplot:xlabel='dialect', ylabel='Count'>"
      ]
     },
     "execution_count": 3,
     "metadata": {},
     "output_type": "execute_result"
    },
    {
     "data": {
      "image/png": "[encoded data removed]",
      "text/plain": [
       "<Figure size 432x288 with 1 Axes>"
      ]
     },
     "metadata": {
      "needs_background": "light"
     },
     "output_type": "display_data"
    }
   ],
   "source": [
    "sns.histplot(data,x='dialect')"
   ]
  },
  {
   "cell_type": "code",
   "execution_count": 4,
   "metadata": {},
   "outputs": [
    {
     "data": {
      "text/plain": [
       "EG    57636\n",
       "PL    43742\n",
       "KW    42109\n",
       "LY    36499\n",
       "QA    31069\n",
       "JO    27921\n",
       "LB    27617\n",
       "SA    26832\n",
       "AE    26296\n",
       "BH    26292\n",
       "OM    19116\n",
       "SY    16242\n",
       "DZ    16183\n",
       "IQ    15497\n",
       "SD    14434\n",
       "MA    11539\n",
       "YE     9927\n",
       "TN     9246\n",
       "Name: dialect, dtype: int64"
      ]
     },
     "execution_count": 4,
     "metadata": {},
     "output_type": "execute_result"
    }
   ],
   "source": [
    "data.dialect.value_counts()"
   ]
  },
  {
   "cell_type": "code",
   "execution_count": 5,
   "metadata": {},
   "outputs": [
    {
     "data": {
      "text/plain": [
       "EG    0.125789\n",
       "PL    0.095465\n",
       "KW    0.091902\n",
       "LY    0.079658\n",
       "QA    0.067807\n",
       "JO    0.060937\n",
       "LB    0.060273\n",
       "SA    0.058560\n",
       "AE    0.057390\n",
       "BH    0.057381\n",
       "OM    0.041720\n",
       "SY    0.035448\n",
       "DZ    0.035319\n",
       "IQ    0.033822\n",
       "SD    0.031502\n",
       "MA    0.025183\n",
       "YE    0.021665\n",
       "TN    0.020179\n",
       "Name: dialect, dtype: float64"
      ]
     },
     "execution_count": 5,
     "metadata": {},
     "output_type": "execute_result"
    }
   ],
   "source": [
    "data.dialect.value_counts(normalize=True)"
   ]
  },
  {
   "cell_type": "code",
   "execution_count": 6,
   "metadata": {},
   "outputs": [
    {
     "data": {
      "text/plain": [
       "dialect    0\n",
       "txt        0\n",
       "dtype: int64"
      ]
     },
     "execution_count": 6,
     "metadata": {},
     "output_type": "execute_result"
    }
   ],
   "source": [
    "data.isna().sum()"
   ]
  },
  {
   "cell_type": "code",
   "execution_count": 7,
   "metadata": {},
   "outputs": [
    {
     "data": {
      "text/html": [
       "<div>\n",
       "<style scoped>\n",
       "    .dataframe tbody tr th:only-of-type {\n",
       "        vertical-align: middle;\n",
       "    }\n",
       "\n",
       "    .dataframe tbody tr th {\n",
       "        vertical-align: top;\n",
       "    }\n",
       "\n",
       "    .dataframe thead th {\n",
       "        text-align: right;\n",
       "    }\n",
       "</style>\n",
       "<table border=\"1\" class=\"dataframe\">\n",
       "  <thead>\n",
       "    <tr style=\"text-align: right;\">\n",
       "      <th></th>\n",
       "      <th>dialect</th>\n",
       "      <th>txt</th>\n",
       "    </tr>\n",
       "  </thead>\n",
       "  <tbody>\n",
       "    <tr>\n",
       "      <th>411134</th>\n",
       "      <td>AE</td>\n",
       "      <td>@GBSH0 للامانه اتفق معاج، لغة الام تصعب عليه ف...</td>\n",
       "    </tr>\n",
       "    <tr>\n",
       "      <th>444142</th>\n",
       "      <td>BH</td>\n",
       "      <td>@ZahraHassan3  يصيدون خلايا في البحرين..\\nاكثر...</td>\n",
       "    </tr>\n",
       "    <tr>\n",
       "      <th>229600</th>\n",
       "      <td>DZ</td>\n",
       "      <td>@happy_chemistry لقايد صالح يا عمري</td>\n",
       "    </tr>\n",
       "    <tr>\n",
       "      <th>301767</th>\n",
       "      <td>EG</td>\n",
       "      <td>@ohlalaohlalaohl يابختك عندك  سنان للقصب😂😂</td>\n",
       "    </tr>\n",
       "    <tr>\n",
       "      <th>14676</th>\n",
       "      <td>IQ</td>\n",
       "      <td>لك شوو جابكم لهيدي الورطة ؟؟ بابا روحوا العبوا...</td>\n",
       "    </tr>\n",
       "    <tr>\n",
       "      <th>165116</th>\n",
       "      <td>JO</td>\n",
       "      <td>@hazzaa_85 @Alshawawrah2 لا هاذ واحنا اصغار😂😂😂...</td>\n",
       "    </tr>\n",
       "    <tr>\n",
       "      <th>358781</th>\n",
       "      <td>KW</td>\n",
       "      <td>@bo3aliAlnufais ياهل مو تمر  ههههه</td>\n",
       "    </tr>\n",
       "    <tr>\n",
       "      <th>325220</th>\n",
       "      <td>LB</td>\n",
       "      <td>@news_ger_chekel كله مفبرك ومشغول صح بركي نعمل...</td>\n",
       "    </tr>\n",
       "    <tr>\n",
       "      <th>38085</th>\n",
       "      <td>LY</td>\n",
       "      <td>@AishaEndari بصراحة انت ... هكي كبرها هههههههه</td>\n",
       "    </tr>\n",
       "    <tr>\n",
       "      <th>185117</th>\n",
       "      <td>MA</td>\n",
       "      <td>@Ahmed_Hamza27 @hind_douche @ReNgo_Sport @Fati...</td>\n",
       "    </tr>\n",
       "    <tr>\n",
       "      <th>380150</th>\n",
       "      <td>OM</td>\n",
       "      <td>@MAlshekaili @alomani1891 @Durht_1994 @AdweeA1...</td>\n",
       "    </tr>\n",
       "    <tr>\n",
       "      <th>90560</th>\n",
       "      <td>PL</td>\n",
       "      <td>النسويات السعوديات لوين بدهن يوصلن ؟</td>\n",
       "    </tr>\n",
       "    <tr>\n",
       "      <th>83045</th>\n",
       "      <td>QA</td>\n",
       "      <td>انا لك و ودي تكون انت ليا يا شين غيبتك و يازين...</td>\n",
       "    </tr>\n",
       "    <tr>\n",
       "      <th>200080</th>\n",
       "      <td>SA</td>\n",
       "      <td>@al_raes__ الحل: يطلع بيت لوحده ويريح راسه</td>\n",
       "    </tr>\n",
       "    <tr>\n",
       "      <th>404851</th>\n",
       "      <td>SD</td>\n",
       "      <td>@M__albugaily اكيد راح يفوز الكفيل😂</td>\n",
       "    </tr>\n",
       "    <tr>\n",
       "      <th>139778</th>\n",
       "      <td>SY</td>\n",
       "      <td>@Sana24096107 بتسمعي راديو\\nأحييييييكي يا سنا\\...</td>\n",
       "    </tr>\n",
       "    <tr>\n",
       "      <th>147529</th>\n",
       "      <td>TN</td>\n",
       "      <td>@fomt444 ع الرياضيه الاولى وشكلنا بنخسر خخخ</td>\n",
       "    </tr>\n",
       "    <tr>\n",
       "      <th>218698</th>\n",
       "      <td>YE</td>\n",
       "      <td>ماناش من خرطة تعيين طارق! انا من الجايفي قد خل...</td>\n",
       "    </tr>\n",
       "  </tbody>\n",
       "</table>\n",
       "</div>"
      ],
      "text/plain": [
       "       dialect                                                txt\n",
       "411134      AE  @GBSH0 للامانه اتفق معاج، لغة الام تصعب عليه ف...\n",
       "444142      BH  @ZahraHassan3  يصيدون خلايا في البحرين..\\nاكثر...\n",
       "229600      DZ                @happy_chemistry لقايد صالح يا عمري\n",
       "301767      EG         @ohlalaohlalaohl يابختك عندك  سنان للقصب😂😂\n",
       "14676       IQ  لك شوو جابكم لهيدي الورطة ؟؟ بابا روحوا العبوا...\n",
       "165116      JO  @hazzaa_85 @Alshawawrah2 لا هاذ واحنا اصغار😂😂😂...\n",
       "358781      KW                 @bo3aliAlnufais ياهل مو تمر  ههههه\n",
       "325220      LB  @news_ger_chekel كله مفبرك ومشغول صح بركي نعمل...\n",
       "38085       LY     @AishaEndari بصراحة انت ... هكي كبرها هههههههه\n",
       "185117      MA  @Ahmed_Hamza27 @hind_douche @ReNgo_Sport @Fati...\n",
       "380150      OM  @MAlshekaili @alomani1891 @Durht_1994 @AdweeA1...\n",
       "90560       PL               النسويات السعوديات لوين بدهن يوصلن ؟\n",
       "83045       QA  انا لك و ودي تكون انت ليا يا شين غيبتك و يازين...\n",
       "200080      SA         @al_raes__ الحل: يطلع بيت لوحده ويريح راسه\n",
       "404851      SD                @M__albugaily اكيد راح يفوز الكفيل😂\n",
       "139778      SY  @Sana24096107 بتسمعي راديو\\nأحييييييكي يا سنا\\...\n",
       "147529      TN        @fomt444 ع الرياضيه الاولى وشكلنا بنخسر خخخ\n",
       "218698      YE  ماناش من خرطة تعيين طارق! انا من الجايفي قد خل..."
      ]
     },
     "execution_count": 7,
     "metadata": {},
     "output_type": "execute_result"
    }
   ],
   "source": [
    "data.groupby(\"dialect\").sample(n=1, random_state=1)"
   ]
  },
  {
   "cell_type": "code",
   "execution_count": 13,
   "metadata": {},
   "outputs": [
    {
     "name": "stderr",
     "output_type": "stream",
     "text": [
      "d:\\self\\AIM ML Task\\App\\aim\\lib\\site-packages\\seaborn\\distributions.py:2619: FutureWarning: `distplot` is a deprecated function and will be removed in a future version. Please adapt your code to use either `displot` (a figure-level function with similar flexibility) or `histplot` (an axes-level function for histograms).\n",
      "  warnings.warn(msg, FutureWarning)\n"
     ]
    },
    {
     "data": {
      "text/plain": [
       "Text(0.5, 0, 'text length')"
      ]
     },
     "execution_count": 13,
     "metadata": {},
     "output_type": "execute_result"
    },
    {
     "data": {
      "image/png": "[encoded data removed]",
      "text/plain": [
       "<Figure size 432x288 with 1 Axes>"
      ]
     },
     "metadata": {
      "needs_background": "light"
     },
     "output_type": "display_data"
    }
   ],
   "source": [
    "sns.distplot(data.txt.str.len())\n",
    "plt.xlabel('text length')"
   ]
  },
  {
   "cell_type": "code",
   "execution_count": 26,
   "metadata": {},
   "outputs": [
    {
     "data": {
      "text/plain": [
       "<AxesSubplot:xlabel='txt', ylabel='dialect'>"
      ]
     },
     "execution_count": 26,
     "metadata": {},
     "output_type": "execute_result"
    },
    {
     "data": {
      "image/png": "[encoded data removed]",
      "text/plain": [
       "<Figure size 432x288 with 1 Axes>"
      ]
     },
     "metadata": {
      "needs_background": "light"
     },
     "output_type": "display_data"
    }
   ],
   "source": [
    "sns.barplot(x= data.txt.str.len(),y= data.dialect)"
   ]
  },
  {
   "cell_type": "code",
   "execution_count": 14,
   "metadata": {},
   "outputs": [
    {
     "data": {
      "text/plain": [
       "0.6277932854208997"
      ]
     },
     "execution_count": 14,
     "metadata": {},
     "output_type": "execute_result"
    }
   ],
   "source": [
    "# ratio of text containing mentions\n",
    "sum(data.txt.str.contains('@'))/ len(data)"
   ]
  },
  {
   "cell_type": "code",
   "execution_count": 15,
   "metadata": {},
   "outputs": [
    {
     "data": {
      "text/plain": [
       "0.0968557192648577"
      ]
     },
     "execution_count": 15,
     "metadata": {},
     "output_type": "execute_result"
    }
   ],
   "source": [
    "# ratio of tweets containing hashtags\n",
    "sum(data.txt.str.contains('#'))/ len(data)"
   ]
  },
  {
   "cell_type": "code",
   "execution_count": 18,
   "metadata": {},
   "outputs": [
    {
     "data": {
      "text/plain": [
       "0.14883772700388698"
      ]
     },
     "execution_count": 18,
     "metadata": {},
     "output_type": "execute_result"
    }
   ],
   "source": [
    "# ratio of tweets containing urls\n",
    "sum(data.txt.str.contains('http'))/ len(data)"
   ]
  }
 ],
 "metadata": {
  "interpreter": {
   "hash": "005bf040230a0d411425b97bf046d89bfd90c8a9c6ecb15bf71aa6f47ab3b4a2"
  },
  "kernelspec": {
   "display_name": "Python 3.8.5 64-bit ('base': conda)",
   "language": "python",
   "name": "python3"
  },
  "language_info": {
   "codemirror_mode": {
    "name": "ipython",
    "version": 3
   },
   "file_extension": ".py",
   "mimetype": "text/x-python",
   "name": "python",
   "nbconvert_exporter": "python",
   "pygments_lexer": "ipython3",
   "version": "3.8.3"
  },
  "orig_nbformat": 4
 },
 "nbformat": 4,
 "nbformat_minor": 2
}
